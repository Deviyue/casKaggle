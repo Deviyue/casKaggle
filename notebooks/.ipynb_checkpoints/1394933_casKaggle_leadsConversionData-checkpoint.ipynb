{
 "cells": [
  {
   "cell_type": "markdown",
   "id": "badf7e3e",
   "metadata": {},
   "source": [
    "# Cas Kaggle Banking | Marketing | Leads Conversion Data"
   ]
  },
  {
   "cell_type": "markdown",
   "id": "b11fff42",
   "metadata": {},
   "source": [
    "En primer lloc, realitzaré els imports necessaris per a realitzar el projecte:"
   ]
  },
  {
   "cell_type": "code",
   "execution_count": 1,
   "id": "f565fd17",
   "metadata": {},
   "outputs": [],
   "source": [
    "#imports\n",
    "import numpy as np\n",
    "import pandas as pd\n",
    "import matplotlib.pyplot as plt\n",
    "import seaborn as sns\n",
    "from sklearn import preprocessing\n",
    "from sklearn.feature_selection import SelectKBest, chi2\n",
    "from sklearn.linear_model import LogisticRegression\n",
    "from sklearn.model_selection import train_test_split\n",
    "from sklearn.metrics import accuracy_score\n",
    "from sklearn.metrics import f1_score, precision_recall_curve, average_precision_score, roc_curve, auc\n",
    "from sklearn.metrics import classification_report\n",
    "from sklearn.ensemble import RandomForestClassifier\n",
    "from sklearn.tree import DecisionTreeClassifier\n",
    "from sklearn import svm\n",
    "from sklearn.model_selection import cross_val_score\n",
    "from sklearn.model_selection import KFold\n",
    "\n",
    "import warnings\n",
    "warnings.filterwarnings(\"ignore\")"
   ]
  },
  {
   "cell_type": "markdown",
   "id": "74d3f67d",
   "metadata": {},
   "source": [
    "Per posar-nos en context, partim amb dos datasets (train i test), que en aquest supòsit ens han sigut entregats per un banc que busca esbrinar per quins medis digitals ha de centrar els seus esforços de màrqueting per a optimitzar l'obtenció de nous clients. Aquests datasets contenen l'historial de \"leads\", que podríem traduir com a gent que ha sigut marcada pel banc com a possible client i l'objectiu del banc és conseguir incrementar el seu nombre i conseguir que el major percentatge d'aquesta gent acabin sent clients reals. Les dades del train són dels últims 3 mesos, per tant ja sabém quins d'aquests leads han acabat sent clients i quins no. Les dades del test són dels 30 dies següents i no contenen el camp indicatiu de si van ser o no clients realment.\n",
    "Ara centrant-nos en les dades, ens han proporcionat unes dades anonimitzades amb molta informació, i a la vegada molt restringida que no tota ens serà útil. "
   ]
  },
  {
   "cell_type": "markdown",
   "id": "debbbb1b",
   "metadata": {},
   "source": [
    "Procedim a carregar els datasets i veure'n el contingut, centrant-nos en el de train:"
   ]
  },
  {
   "cell_type": "code",
   "execution_count": 2,
   "id": "2d93e9f4",
   "metadata": {},
   "outputs": [
    {
     "name": "stdout",
     "output_type": "stream",
     "text": [
      "Mida dataset train:  (69713, 22)\n",
      "Mida dataset test:  (30037, 21)\n",
      "Primeres entrades dataset train:\n"
     ]
    },
    {
     "data": {
      "text/html": [
       "<div>\n",
       "<style scoped>\n",
       "    .dataframe tbody tr th:only-of-type {\n",
       "        vertical-align: middle;\n",
       "    }\n",
       "\n",
       "    .dataframe tbody tr th {\n",
       "        vertical-align: top;\n",
       "    }\n",
       "\n",
       "    .dataframe thead th {\n",
       "        text-align: right;\n",
       "    }\n",
       "</style>\n",
       "<table border=\"1\" class=\"dataframe\">\n",
       "  <thead>\n",
       "    <tr style=\"text-align: right;\">\n",
       "      <th></th>\n",
       "      <th>ID</th>\n",
       "      <th>Gender</th>\n",
       "      <th>DOB</th>\n",
       "      <th>Lead_Creation_Date</th>\n",
       "      <th>City_Code</th>\n",
       "      <th>City_Category</th>\n",
       "      <th>Employer_Code</th>\n",
       "      <th>Employer_Category1</th>\n",
       "      <th>Employer_Category2</th>\n",
       "      <th>Monthly_Income</th>\n",
       "      <th>...</th>\n",
       "      <th>Contacted</th>\n",
       "      <th>Source</th>\n",
       "      <th>Source_Category</th>\n",
       "      <th>Existing_EMI</th>\n",
       "      <th>Loan_Amount</th>\n",
       "      <th>Loan_Period</th>\n",
       "      <th>Interest_Rate</th>\n",
       "      <th>EMI</th>\n",
       "      <th>Var1</th>\n",
       "      <th>Approved</th>\n",
       "    </tr>\n",
       "  </thead>\n",
       "  <tbody>\n",
       "    <tr>\n",
       "      <th>0</th>\n",
       "      <td>APPC90493171225</td>\n",
       "      <td>Female</td>\n",
       "      <td>23/07/79</td>\n",
       "      <td>15/07/16</td>\n",
       "      <td>C10001</td>\n",
       "      <td>A</td>\n",
       "      <td>COM0044082</td>\n",
       "      <td>A</td>\n",
       "      <td>4.0</td>\n",
       "      <td>2000.0</td>\n",
       "      <td>...</td>\n",
       "      <td>N</td>\n",
       "      <td>S122</td>\n",
       "      <td>G</td>\n",
       "      <td>0.0</td>\n",
       "      <td>NaN</td>\n",
       "      <td>NaN</td>\n",
       "      <td>NaN</td>\n",
       "      <td>NaN</td>\n",
       "      <td>0</td>\n",
       "      <td>0</td>\n",
       "    </tr>\n",
       "    <tr>\n",
       "      <th>1</th>\n",
       "      <td>APPD40611263344</td>\n",
       "      <td>Male</td>\n",
       "      <td>07/12/86</td>\n",
       "      <td>04/07/16</td>\n",
       "      <td>C10003</td>\n",
       "      <td>A</td>\n",
       "      <td>COM0000002</td>\n",
       "      <td>C</td>\n",
       "      <td>1.0</td>\n",
       "      <td>3500.0</td>\n",
       "      <td>...</td>\n",
       "      <td>Y</td>\n",
       "      <td>S122</td>\n",
       "      <td>G</td>\n",
       "      <td>0.0</td>\n",
       "      <td>20000.0</td>\n",
       "      <td>2.0</td>\n",
       "      <td>13.25</td>\n",
       "      <td>953.0</td>\n",
       "      <td>10</td>\n",
       "      <td>0</td>\n",
       "    </tr>\n",
       "    <tr>\n",
       "      <th>2</th>\n",
       "      <td>APPE70289249423</td>\n",
       "      <td>Male</td>\n",
       "      <td>10/12/82</td>\n",
       "      <td>19/07/16</td>\n",
       "      <td>C10125</td>\n",
       "      <td>C</td>\n",
       "      <td>COM0005267</td>\n",
       "      <td>C</td>\n",
       "      <td>4.0</td>\n",
       "      <td>2250.0</td>\n",
       "      <td>...</td>\n",
       "      <td>Y</td>\n",
       "      <td>S143</td>\n",
       "      <td>B</td>\n",
       "      <td>0.0</td>\n",
       "      <td>45000.0</td>\n",
       "      <td>4.0</td>\n",
       "      <td>NaN</td>\n",
       "      <td>NaN</td>\n",
       "      <td>0</td>\n",
       "      <td>0</td>\n",
       "    </tr>\n",
       "    <tr>\n",
       "      <th>3</th>\n",
       "      <td>APPF80273865537</td>\n",
       "      <td>Male</td>\n",
       "      <td>30/01/89</td>\n",
       "      <td>09/07/16</td>\n",
       "      <td>C10477</td>\n",
       "      <td>C</td>\n",
       "      <td>COM0004143</td>\n",
       "      <td>A</td>\n",
       "      <td>4.0</td>\n",
       "      <td>3500.0</td>\n",
       "      <td>...</td>\n",
       "      <td>Y</td>\n",
       "      <td>S143</td>\n",
       "      <td>B</td>\n",
       "      <td>0.0</td>\n",
       "      <td>92000.0</td>\n",
       "      <td>5.0</td>\n",
       "      <td>NaN</td>\n",
       "      <td>NaN</td>\n",
       "      <td>7</td>\n",
       "      <td>0</td>\n",
       "    </tr>\n",
       "    <tr>\n",
       "      <th>4</th>\n",
       "      <td>APPG60994436641</td>\n",
       "      <td>Male</td>\n",
       "      <td>19/04/85</td>\n",
       "      <td>20/07/16</td>\n",
       "      <td>C10002</td>\n",
       "      <td>A</td>\n",
       "      <td>COM0001781</td>\n",
       "      <td>A</td>\n",
       "      <td>4.0</td>\n",
       "      <td>10000.0</td>\n",
       "      <td>...</td>\n",
       "      <td>Y</td>\n",
       "      <td>S134</td>\n",
       "      <td>B</td>\n",
       "      <td>2500.0</td>\n",
       "      <td>50000.0</td>\n",
       "      <td>2.0</td>\n",
       "      <td>NaN</td>\n",
       "      <td>NaN</td>\n",
       "      <td>10</td>\n",
       "      <td>0</td>\n",
       "    </tr>\n",
       "  </tbody>\n",
       "</table>\n",
       "<p>5 rows × 22 columns</p>\n",
       "</div>"
      ],
      "text/plain": [
       "                ID  Gender       DOB Lead_Creation_Date City_Code  \\\n",
       "0  APPC90493171225  Female  23/07/79           15/07/16    C10001   \n",
       "1  APPD40611263344    Male  07/12/86           04/07/16    C10003   \n",
       "2  APPE70289249423    Male  10/12/82           19/07/16    C10125   \n",
       "3  APPF80273865537    Male  30/01/89           09/07/16    C10477   \n",
       "4  APPG60994436641    Male  19/04/85           20/07/16    C10002   \n",
       "\n",
       "  City_Category Employer_Code Employer_Category1  Employer_Category2  \\\n",
       "0             A    COM0044082                  A                 4.0   \n",
       "1             A    COM0000002                  C                 1.0   \n",
       "2             C    COM0005267                  C                 4.0   \n",
       "3             C    COM0004143                  A                 4.0   \n",
       "4             A    COM0001781                  A                 4.0   \n",
       "\n",
       "   Monthly_Income  ... Contacted Source Source_Category Existing_EMI  \\\n",
       "0          2000.0  ...         N   S122               G          0.0   \n",
       "1          3500.0  ...         Y   S122               G          0.0   \n",
       "2          2250.0  ...         Y   S143               B          0.0   \n",
       "3          3500.0  ...         Y   S143               B          0.0   \n",
       "4         10000.0  ...         Y   S134               B       2500.0   \n",
       "\n",
       "  Loan_Amount  Loan_Period  Interest_Rate    EMI  Var1  Approved  \n",
       "0         NaN          NaN            NaN    NaN     0         0  \n",
       "1     20000.0          2.0          13.25  953.0    10         0  \n",
       "2     45000.0          4.0            NaN    NaN     0         0  \n",
       "3     92000.0          5.0            NaN    NaN     7         0  \n",
       "4     50000.0          2.0            NaN    NaN    10         0  \n",
       "\n",
       "[5 rows x 22 columns]"
      ]
     },
     "execution_count": 2,
     "metadata": {},
     "output_type": "execute_result"
    }
   ],
   "source": [
    "#read\n",
    "df1 = pd.read_csv('../datasets/train.csv')\n",
    "df2 = pd.read_csv('../datasets/test.csv')\n",
    "\n",
    "print(\"Mida dataset train: \", df1.shape)\n",
    "print(\"Mida dataset test: \", df2.shape)\n",
    "print(\"Primeres entrades dataset train:\")\n",
    "df1.head()"
   ]
  },
  {
   "cell_type": "code",
   "execution_count": 3,
   "id": "5b5977d2",
   "metadata": {},
   "outputs": [
    {
     "name": "stdout",
     "output_type": "stream",
     "text": [
      "ID  conté  69713  valors únics\n",
      "Gender  conté  2  valors únics\n",
      "DOB  conté  10759  valors únics\n",
      "Lead_Creation_Date  conté  92  valors únics\n",
      "City_Code  conté  678  valors únics\n",
      "City_Category  conté  3  valors únics\n",
      "Employer_Code  conté  36617  valors únics\n",
      "Employer_Category1  conté  3  valors únics\n",
      "Employer_Category2  conté  4  valors únics\n",
      "Monthly_Income  conté  5010  valors únics\n",
      "Customer_Existing_Primary_Bank_Code  conté  57  valors únics\n",
      "Primary_Bank_Type  conté  2  valors únics\n",
      "Contacted  conté  2  valors únics\n",
      "Source  conté  29  valors únics\n",
      "Source_Category  conté  7  valors únics\n",
      "Existing_EMI  conté  3245  valors únics\n",
      "Loan_Amount  conté  196  valors únics\n",
      "Loan_Period  conté  6  valors únics\n",
      "Interest_Rate  conté  72  valors únics\n",
      "EMI  conté  2179  valors únics\n",
      "Var1  conté  5  valors únics\n",
      "Approved  conté  2  valors únics\n"
     ]
    }
   ],
   "source": [
    "for var in df1:\n",
    "        print(var, \" conté \", df1[var].nunique(), \" valors únics\")"
   ]
  },
  {
   "cell_type": "code",
   "execution_count": 4,
   "id": "7b9c00e8",
   "metadata": {},
   "outputs": [
    {
     "name": "stdout",
     "output_type": "stream",
     "text": [
      "['A' 'C' 'B' nan]\n",
      "['A' 'C' 'B' nan]\n",
      "[ 4.  1.  3.  2. nan]\n",
      "['P' 'G' nan]\n",
      "['G' 'B' 'C' 'E' 'F' 'D' 'A']\n",
      "[ 0 10  7  4  2]\n"
     ]
    }
   ],
   "source": [
    "print(df1['City_Category'].unique())\n",
    "print(df1['Employer_Category1'].unique())\n",
    "print(df1['Employer_Category2'].unique())\n",
    "print(df1['Primary_Bank_Type'].unique())\n",
    "print(df1['Source_Category'].unique())\n",
    "print(df1['Var1'].unique())"
   ]
  },
  {
   "cell_type": "code",
   "execution_count": 5,
   "id": "7ac8bfdd",
   "metadata": {},
   "outputs": [
    {
     "name": "stdout",
     "output_type": "stream",
     "text": [
      "<class 'pandas.core.frame.DataFrame'>\n",
      "RangeIndex: 69713 entries, 0 to 69712\n",
      "Data columns (total 22 columns):\n",
      " #   Column                               Non-Null Count  Dtype  \n",
      "---  ------                               --------------  -----  \n",
      " 0   ID                                   69713 non-null  object \n",
      " 1   Gender                               69713 non-null  object \n",
      " 2   DOB                                  69698 non-null  object \n",
      " 3   Lead_Creation_Date                   69713 non-null  object \n",
      " 4   City_Code                            68899 non-null  object \n",
      " 5   City_Category                        68899 non-null  object \n",
      " 6   Employer_Code                        65695 non-null  object \n",
      " 7   Employer_Category1                   65695 non-null  object \n",
      " 8   Employer_Category2                   65415 non-null  float64\n",
      " 9   Monthly_Income                       69713 non-null  float64\n",
      " 10  Customer_Existing_Primary_Bank_Code  60322 non-null  object \n",
      " 11  Primary_Bank_Type                    60322 non-null  object \n",
      " 12  Contacted                            69713 non-null  object \n",
      " 13  Source                               69713 non-null  object \n",
      " 14  Source_Category                      69713 non-null  object \n",
      " 15  Existing_EMI                         69662 non-null  float64\n",
      " 16  Loan_Amount                          42004 non-null  float64\n",
      " 17  Loan_Period                          42004 non-null  float64\n",
      " 18  Interest_Rate                        22276 non-null  float64\n",
      " 19  EMI                                  22276 non-null  float64\n",
      " 20  Var1                                 69713 non-null  int64  \n",
      " 21  Approved                             69713 non-null  int64  \n",
      "dtypes: float64(7), int64(2), object(13)\n",
      "memory usage: 11.7+ MB\n"
     ]
    }
   ],
   "source": [
    "df1.info()"
   ]
  },
  {
   "cell_type": "code",
   "execution_count": 6,
   "id": "8e578fa4",
   "metadata": {},
   "outputs": [
    {
     "name": "stdout",
     "output_type": "stream",
     "text": [
      "<class 'pandas.core.frame.DataFrame'>\n",
      "RangeIndex: 30037 entries, 0 to 30036\n",
      "Data columns (total 21 columns):\n",
      " #   Column                               Non-Null Count  Dtype  \n",
      "---  ------                               --------------  -----  \n",
      " 0   ID                                   30037 non-null  object \n",
      " 1   Gender                               30037 non-null  object \n",
      " 2   DOB                                  30034 non-null  object \n",
      " 3   Lead_Creation_Date                   30037 non-null  object \n",
      " 4   City_Code                            29723 non-null  object \n",
      " 5   City_Category                        29723 non-null  object \n",
      " 6   Employer_Code                        28432 non-null  object \n",
      " 7   Employer_Category1                   28432 non-null  object \n",
      " 8   Employer_Category2                   28342 non-null  float64\n",
      " 9   Monthly_Income                       30037 non-null  float64\n",
      " 10  Customer_Existing_Primary_Bank_Code  26000 non-null  object \n",
      " 11  Primary_Bank_Type                    26000 non-null  object \n",
      " 12  Contacted                            30037 non-null  object \n",
      " 13  Source                               30037 non-null  object \n",
      " 14  Source_Category                      30037 non-null  object \n",
      " 15  Existing_EMI                         30005 non-null  float64\n",
      " 16  Loan_Amount                          18166 non-null  float64\n",
      " 17  Loan_Period                          18166 non-null  float64\n",
      " 18  Interest_Rate                        9652 non-null   float64\n",
      " 19  EMI                                  9652 non-null   float64\n",
      " 20  Var1                                 30037 non-null  int64  \n",
      "dtypes: float64(7), int64(1), object(13)\n",
      "memory usage: 4.8+ MB\n"
     ]
    }
   ],
   "source": [
    "df2.info()"
   ]
  },
  {
   "cell_type": "code",
   "execution_count": 8,
   "id": "3c1f98e1",
   "metadata": {},
   "outputs": [
    {
     "name": "stdout",
     "output_type": "stream",
     "text": [
      "['A' 'B' 'C']\n",
      "['C' 'B' 'A']\n",
      "[1. 4. 3. 2.]\n",
      "['P' 'G']\n",
      "['G' 'C' 'B' 'E' 'F' 'A']\n",
      "[10  0  7  4  2]\n"
     ]
    }
   ],
   "source": [
    "print(df1['City_Category'].unique())\n",
    "print(df1['Employer_Category1'].unique())\n",
    "print(df1['Employer_Category2'].unique())\n",
    "print(df1['Primary_Bank_Type'].unique())\n",
    "print(df1['Source_Category'].unique())\n",
    "print(df1['Var1'].unique())"
   ]
  },
  {
   "cell_type": "markdown",
   "id": "ba0d7227",
   "metadata": {},
   "source": [
    "# Anàlisi dels atributs:\n",
    "\n",
    "Ara que ja n'hem vist els atributs, procediré a explicar-los en deteniment, tenint en compte que utilitzaré \"lead\" per a referirme a possible client i totes les dades relacionades amb diners estàn en dòlars:\n",
    "\n",
    "    -ID: Identificador del \"lead\".\n",
    "    -Gender: El seu sexe, masculí o femení.\n",
    "    -DOB: Date of Birth o data de naixement.\n",
    "    -Lead_Creation_Date: Data de la creació d'aquesta \"lead\".\n",
    "    -City_Code: Identificador de la ciutat, anonimitzat.\n",
    "    -City_Category: Valor categòric en el que han classificat les ciutats, desconegut per nosaltres però per al banc les deu filtrar d'alguna forma rellevant per a ells, valors (A, B, C).\n",
    "    -Employer_Code: Codi anonimitzat de l'empleat que suposem va afegir aquest lead.\n",
    "    -Employer_Category1: Categoria anonimitzada d'aquest empleat, categòrica amb valors (A, B, C).\n",
    "    -Employer_Category2: Segona categoria anonimitzada d'aquest empleat, rang de valors (1, 2, 3, 4).\n",
    "    -Monthly_Income: Ganàncies mensuals. \n",
    "    -Customer_Existing_Primary_Bank_Code: Codi bancari existent anonimitzat.\n",
    "    -Primary_Bank_Type: Classificació binària sobre el tipus de banc de la dada anterior. \n",
    "    -Contacted: Binari indicatiu de si ha sigut verificada aquesta persona o no.\n",
    "    -Source: Codi indicatiu de la font per la que s'ha obtingut aquesta \"lead\".\n",
    "    -Source_Category: Generalització de la dada anterior en diferents categories, 7 possibles valors diferents (A, B, C...).\n",
    "    -Existing_EMI: Equated monthly installment, és la deuda que aquesta \"lead\" paga mensualment per un préstec ja existent.\n",
    "    -Loan_Amount: Quantitat de diners que ha demanar en aquest prèstec/s.\n",
    "    -Loan_Period: Temps de que disposa per pagar el prèstec.\n",
    "    -Interest_Rate: Taxa d'interès aplicada al prèstec.\n",
    "    -EMI: Equated monthly installment, però aquest cop, de la quantitat que es calcula que hauria de pagar mensualment per al prèstec que el client demana.\n",
    "    -Var1: Variable anonimitzada creada pel banc resumint tots els valors anteriors i classificant les leads en 5 categories diferents, valors: (0, 2, 4, 7, 10).\n",
    "    -Approved: Aquesta dada només està a la taula train ja que aquesta és el booleà que indica si un lead ha acabat sent un client realment o no. "
   ]
  },
  {
   "cell_type": "markdown",
   "id": "f6671320",
   "metadata": {},
   "source": [
    "# Preprocessing"
   ]
  },
  {
   "cell_type": "markdown",
   "id": "c01e447b",
   "metadata": {},
   "source": [
    "Un cop observades les dades amb les que partim, filtrarem aquestes ja que la gran majoria ens són irrellevants, volem centrarnos en les que sumaritzen les dades en les diferents categories en que les filtra el propi banc, com són City_Category, Employer_Category1 i 2, Source_category i Var1. La resta estaràn relacionades amb les categoritzacións o seràn irrellevants com la data de naixement o la data d'obtenció del lead. \n",
    "Tot seguit reduirem la base de dades com hem descrit i també n'eliminarem les entrades amb dades buides per a no tenir soroll per al nostre model:"
   ]
  },
  {
   "cell_type": "code",
   "execution_count": 7,
   "id": "37355f9b",
   "metadata": {
    "scrolled": true
   },
   "outputs": [
    {
     "name": "stdout",
     "output_type": "stream",
     "text": [
      "Mida de train abans del drop:  (69713, 22)\n",
      "Mida de test abans del drop:  (30037, 21)\n",
      "Mida de train després del drop:  (20308, 13)\n",
      "Mida de test després del drop:  (8818, 12)\n"
     ]
    }
   ],
   "source": [
    "#drop %\n",
    "print(\"Mida de train abans del drop: \", df1.shape)\n",
    "print(\"Mida de test abans del drop: \", df2.shape)\n",
    "\n",
    "df1 = df1.drop(columns=['ID','Gender','DOB','Lead_Creation_Date','City_Code','Employer_Code',\n",
    "                        'Customer_Existing_Primary_Bank_Code','Contacted','Source',],axis=1)\n",
    "df2 = df2.drop(columns=['ID','Gender','DOB','Lead_Creation_Date','City_Code','Employer_Code',\n",
    "                        'Customer_Existing_Primary_Bank_Code','Contacted','Source',],axis=1)\n",
    "\n",
    "df1 = df1.dropna(how='any')\n",
    "df2 = df2.dropna(how='any')\n",
    "\n",
    "print(\"Mida de train després del drop: \", df1.shape)\n",
    "print(\"Mida de test després del drop: \", df2.shape)"
   ]
  },
  {
   "cell_type": "code",
   "execution_count": 9,
   "id": "1471598b",
   "metadata": {
    "scrolled": false
   },
   "outputs": [
    {
     "name": "stdout",
     "output_type": "stream",
     "text": [
      "<class 'pandas.core.frame.DataFrame'>\n",
      "Int64Index: 20308 entries, 1 to 69710\n",
      "Data columns (total 13 columns):\n",
      " #   Column              Non-Null Count  Dtype  \n",
      "---  ------              --------------  -----  \n",
      " 0   City_Category       20308 non-null  object \n",
      " 1   Employer_Category1  20308 non-null  object \n",
      " 2   Employer_Category2  20308 non-null  float64\n",
      " 3   Monthly_Income      20308 non-null  float64\n",
      " 4   Primary_Bank_Type   20308 non-null  object \n",
      " 5   Source_Category     20308 non-null  object \n",
      " 6   Existing_EMI        20308 non-null  float64\n",
      " 7   Loan_Amount         20308 non-null  float64\n",
      " 8   Loan_Period         20308 non-null  float64\n",
      " 9   Interest_Rate       20308 non-null  float64\n",
      " 10  EMI                 20308 non-null  float64\n",
      " 11  Var1                20308 non-null  int64  \n",
      " 12  Approved            20308 non-null  int64  \n",
      "dtypes: float64(7), int64(2), object(4)\n",
      "memory usage: 2.2+ MB\n"
     ]
    }
   ],
   "source": [
    "df1.info()"
   ]
  },
  {
   "cell_type": "markdown",
   "id": "adddbe61",
   "metadata": {},
   "source": [
    "Ara que ja tenim seleccionades les dades que utilitzarem, les prepararem per al nostre model, ja que aquest no podrà tractar amb dades categòriques com A, B, C. Per tant les transformarém:"
   ]
  },
  {
   "cell_type": "code",
   "execution_count": 10,
   "id": "35146545",
   "metadata": {},
   "outputs": [
    {
     "name": "stdout",
     "output_type": "stream",
     "text": [
      "Mida de train abans de la transformació:  (20308, 13)\n",
      "Mida de test abans de la transformació:  (8818, 12)\n",
      "Mida de train després de la transformació:  (20308, 13)\n",
      "Mida de test després de la transformació:  (8818, 12)\n",
      "Database train després de fer parse: \n"
     ]
    },
    {
     "data": {
      "text/html": [
       "<div>\n",
       "<style scoped>\n",
       "    .dataframe tbody tr th:only-of-type {\n",
       "        vertical-align: middle;\n",
       "    }\n",
       "\n",
       "    .dataframe tbody tr th {\n",
       "        vertical-align: top;\n",
       "    }\n",
       "\n",
       "    .dataframe thead th {\n",
       "        text-align: right;\n",
       "    }\n",
       "</style>\n",
       "<table border=\"1\" class=\"dataframe\">\n",
       "  <thead>\n",
       "    <tr style=\"text-align: right;\">\n",
       "      <th></th>\n",
       "      <th>City_Category</th>\n",
       "      <th>Employer_Category1</th>\n",
       "      <th>Employer_Category2</th>\n",
       "      <th>Monthly_Income</th>\n",
       "      <th>Primary_Bank_Type</th>\n",
       "      <th>Source_Category</th>\n",
       "      <th>Existing_EMI</th>\n",
       "      <th>Loan_Amount</th>\n",
       "      <th>Loan_Period</th>\n",
       "      <th>Interest_Rate</th>\n",
       "      <th>EMI</th>\n",
       "      <th>Var1</th>\n",
       "      <th>Approved</th>\n",
       "    </tr>\n",
       "  </thead>\n",
       "  <tbody>\n",
       "    <tr>\n",
       "      <th>1</th>\n",
       "      <td>0</td>\n",
       "      <td>2</td>\n",
       "      <td>1.0</td>\n",
       "      <td>3500.0</td>\n",
       "      <td>0</td>\n",
       "      <td>6</td>\n",
       "      <td>0.0</td>\n",
       "      <td>20000.0</td>\n",
       "      <td>2.0</td>\n",
       "      <td>13.25</td>\n",
       "      <td>953.0</td>\n",
       "      <td>10</td>\n",
       "      <td>0</td>\n",
       "    </tr>\n",
       "    <tr>\n",
       "      <th>6</th>\n",
       "      <td>1</td>\n",
       "      <td>1</td>\n",
       "      <td>4.0</td>\n",
       "      <td>7500.0</td>\n",
       "      <td>1</td>\n",
       "      <td>2</td>\n",
       "      <td>0.0</td>\n",
       "      <td>130000.0</td>\n",
       "      <td>5.0</td>\n",
       "      <td>14.85</td>\n",
       "      <td>3082.0</td>\n",
       "      <td>10</td>\n",
       "      <td>0</td>\n",
       "    </tr>\n",
       "    <tr>\n",
       "      <th>7</th>\n",
       "      <td>0</td>\n",
       "      <td>0</td>\n",
       "      <td>4.0</td>\n",
       "      <td>3000.0</td>\n",
       "      <td>0</td>\n",
       "      <td>1</td>\n",
       "      <td>0.0</td>\n",
       "      <td>30000.0</td>\n",
       "      <td>3.0</td>\n",
       "      <td>18.25</td>\n",
       "      <td>1088.0</td>\n",
       "      <td>0</td>\n",
       "      <td>0</td>\n",
       "    </tr>\n",
       "    <tr>\n",
       "      <th>8</th>\n",
       "      <td>0</td>\n",
       "      <td>0</td>\n",
       "      <td>4.0</td>\n",
       "      <td>2500.0</td>\n",
       "      <td>1</td>\n",
       "      <td>1</td>\n",
       "      <td>0.0</td>\n",
       "      <td>66000.0</td>\n",
       "      <td>5.0</td>\n",
       "      <td>20.00</td>\n",
       "      <td>1749.0</td>\n",
       "      <td>7</td>\n",
       "      <td>0</td>\n",
       "    </tr>\n",
       "    <tr>\n",
       "      <th>10</th>\n",
       "      <td>1</td>\n",
       "      <td>1</td>\n",
       "      <td>4.0</td>\n",
       "      <td>2700.0</td>\n",
       "      <td>1</td>\n",
       "      <td>1</td>\n",
       "      <td>460.0</td>\n",
       "      <td>20000.0</td>\n",
       "      <td>5.0</td>\n",
       "      <td>18.00</td>\n",
       "      <td>508.0</td>\n",
       "      <td>7</td>\n",
       "      <td>0</td>\n",
       "    </tr>\n",
       "  </tbody>\n",
       "</table>\n",
       "</div>"
      ],
      "text/plain": [
       "    City_Category  Employer_Category1  Employer_Category2  Monthly_Income  \\\n",
       "1               0                   2                 1.0          3500.0   \n",
       "6               1                   1                 4.0          7500.0   \n",
       "7               0                   0                 4.0          3000.0   \n",
       "8               0                   0                 4.0          2500.0   \n",
       "10              1                   1                 4.0          2700.0   \n",
       "\n",
       "    Primary_Bank_Type  Source_Category  Existing_EMI  Loan_Amount  \\\n",
       "1                   0                6           0.0      20000.0   \n",
       "6                   1                2           0.0     130000.0   \n",
       "7                   0                1           0.0      30000.0   \n",
       "8                   1                1           0.0      66000.0   \n",
       "10                  1                1         460.0      20000.0   \n",
       "\n",
       "    Loan_Period  Interest_Rate     EMI  Var1  Approved  \n",
       "1           2.0          13.25   953.0    10         0  \n",
       "6           5.0          14.85  3082.0    10         0  \n",
       "7           3.0          18.25  1088.0     0         0  \n",
       "8           5.0          20.00  1749.0     7         0  \n",
       "10          5.0          18.00   508.0     7         0  "
      ]
     },
     "execution_count": 10,
     "metadata": {},
     "output_type": "execute_result"
    }
   ],
   "source": [
    "print(\"Mida de train abans de la transformació: \", df1.shape)\n",
    "print(\"Mida de test abans de la transformació: \", df2.shape)\n",
    "\n",
    "#categoricas 1/0\n",
    "df1['Primary_Bank_Type'].replace({'P': 0, 'G': 1},inplace = True)\n",
    "df2['Primary_Bank_Type'].replace({'P': 0, 'G': 1},inplace = True)\n",
    "df1['City_Category'].replace({'A': 0, 'B': 1, 'C': 2},inplace = True)\n",
    "df2['City_Category'].replace({'A': 0, 'B': 1, 'C': 2},inplace = True)\n",
    "df1['Employer_Category1'].replace({'A': 0, 'B': 1, 'C': 2},inplace = True)\n",
    "df2['Employer_Category1'].replace({'A': 0, 'B': 1, 'C': 2},inplace = True)\n",
    "df1['Source_Category'].replace({'A': 0, 'B': 1, 'C': 2, 'D': 3, 'E': 4, 'F': 5, 'G': 6},inplace = True)\n",
    "df2['Source_Category'].replace({'A': 0, 'B': 1, 'C': 2, 'D': 3, 'E': 4, 'F': 5, 'G': 6},inplace = True)\n",
    "\n",
    "#categoricas +2\n",
    "#categorical_columns = ['City_Category', 'Employer_Category1', 'Source_Category']\n",
    "#df1 = pd.get_dummies(df1, columns=categorical_columns)\n",
    "#df2 = pd.get_dummies(df2, columns=categorical_columns)\n",
    "\n",
    "print(\"Mida de train després de la transformació: \", df1.shape)\n",
    "print(\"Mida de test després de la transformació: \", df2.shape)\n",
    "print(\"Database train després de fer parse: \")\n",
    "df1.head()"
   ]
  },
  {
   "cell_type": "code",
   "execution_count": 17,
   "id": "4d1d98ba",
   "metadata": {},
   "outputs": [
    {
     "name": "stdout",
     "output_type": "stream",
     "text": [
      "0.0    19833\n",
      "1.0      475\n",
      "Name: Approved, dtype: int64\n",
      "0.0    0.97661\n",
      "1.0    0.02339\n",
      "Name: Approved, dtype: float64\n"
     ]
    }
   ],
   "source": [
    "print(df1['Approved'].value_counts())\n",
    "print(df1['Approved'].value_counts()/(len(df1)))"
   ]
  },
  {
   "cell_type": "code",
   "execution_count": 13,
   "id": "c611c709",
   "metadata": {
    "scrolled": false
   },
   "outputs": [
    {
     "data": {
      "image/png": "[encoded data removed]",
      "text/plain": [
       "<Figure size 1224x1224 with 2 Axes>"
      ]
     },
     "metadata": {
      "needs_background": "light"
     },
     "output_type": "display_data"
    }
   ],
   "source": [
    "correlation = df1.corr()\n",
    "plt.figure(figsize=(17,17))\n",
    "sns.heatmap(correlation, annot=True, square=True)\n",
    "plt.show()"
   ]
  },
  {
   "cell_type": "markdown",
   "id": "f9abf4a5",
   "metadata": {},
   "source": [
    "D'entre les correlacións, observem com totes són molt baixes o inclús negatives. Les que destaquen són EMI i Loan_Amount ja que serà directament proporcional la quantitat de deute que algú té, amb els diners que necessitarà. Loan_Amount i Loan_Period perquè la segona indica el temps que té per a pagar la primera, com més temps, més pagaments mensuals, ergo més diners. Primary_Bank_Type i City_Category que probablement indica que un tipus de banc és més popular en unes ciutats que en altres. Var1 té relació amb Existing_EMI, Loan_Amount i EMI, probablement perquè Var1 és un valor adjudicat tenint en compte la resta de categories com a mitjana produida pel banc per a resumir els \"leads\". I finalment, Var1 i Approved mostren relació, probablement Var1 és una de les variables en les que es basa el banc per decidir si aprova o no un crèdit, però a part d'aquesta observem que Approved, la nostra variable objectiu, apenes té relació amb la resta de categories, cosa que pot resultar problemàtica."
   ]
  },
  {
   "cell_type": "markdown",
   "id": "2a0a49a3",
   "metadata": {},
   "source": [
    "Observant les correlacións inicials, observem que encara hi ha dades poc rellevants, com el tipus de ciutat que aparentment només ens proporciona pistes sobre el tipus del banc amb el que està afiliat el client, cosa que no és rellevant per al que volem esbrinar nosaltres.\n",
    "\n",
    "També cal notar la diferència entre clients aprovats i no aprovats, ja que el 97,6% d'aquesta mostra de 19833 \"leads\", només el 2,3% ha acabat sent un client realment, un total de 475 persones. Lo qual dificultarà molt la feina del nostre model, éssent molt fàcil que hi introdueixi bias i disposi de insuficient informació. Per aquest motiu haurém d'estandaritzar:"
   ]
  },
  {
   "cell_type": "code",
   "execution_count": 14,
   "id": "04fd32ab",
   "metadata": {},
   "outputs": [
    {
     "name": "stdout",
     "output_type": "stream",
     "text": [
      "Mida de train després d'estandaritzar':  (20308, 12)\n",
      "Mida de test després d'estandaritzar:  (8818, 11)\n",
      "Database after standarize: \n"
     ]
    },
    {
     "data": {
      "text/html": [
       "<div>\n",
       "<style scoped>\n",
       "    .dataframe tbody tr th:only-of-type {\n",
       "        vertical-align: middle;\n",
       "    }\n",
       "\n",
       "    .dataframe tbody tr th {\n",
       "        vertical-align: top;\n",
       "    }\n",
       "\n",
       "    .dataframe thead th {\n",
       "        text-align: right;\n",
       "    }\n",
       "</style>\n",
       "<table border=\"1\" class=\"dataframe\">\n",
       "  <thead>\n",
       "    <tr style=\"text-align: right;\">\n",
       "      <th></th>\n",
       "      <th>Employer_Category1</th>\n",
       "      <th>Employer_Category2</th>\n",
       "      <th>Monthly_Income</th>\n",
       "      <th>Primary_Bank_Type</th>\n",
       "      <th>Source_Category</th>\n",
       "      <th>Existing_EMI</th>\n",
       "      <th>Loan_Amount</th>\n",
       "      <th>Loan_Period</th>\n",
       "      <th>Interest_Rate</th>\n",
       "      <th>EMI</th>\n",
       "      <th>Var1</th>\n",
       "      <th>Approved</th>\n",
       "    </tr>\n",
       "  </thead>\n",
       "  <tbody>\n",
       "    <tr>\n",
       "      <th>1</th>\n",
       "      <td>1.0</td>\n",
       "      <td>0.0</td>\n",
       "      <td>0.000070</td>\n",
       "      <td>0.0</td>\n",
       "      <td>1.000000</td>\n",
       "      <td>0.000000</td>\n",
       "      <td>0.061224</td>\n",
       "      <td>0.2</td>\n",
       "      <td>0.050380</td>\n",
       "      <td>0.062137</td>\n",
       "      <td>1.0</td>\n",
       "      <td>0.0</td>\n",
       "    </tr>\n",
       "    <tr>\n",
       "      <th>6</th>\n",
       "      <td>0.5</td>\n",
       "      <td>1.0</td>\n",
       "      <td>0.000175</td>\n",
       "      <td>1.0</td>\n",
       "      <td>0.333333</td>\n",
       "      <td>0.000000</td>\n",
       "      <td>0.510204</td>\n",
       "      <td>0.8</td>\n",
       "      <td>0.114354</td>\n",
       "      <td>0.220569</td>\n",
       "      <td>1.0</td>\n",
       "      <td>0.0</td>\n",
       "    </tr>\n",
       "    <tr>\n",
       "      <th>7</th>\n",
       "      <td>0.0</td>\n",
       "      <td>1.0</td>\n",
       "      <td>0.000057</td>\n",
       "      <td>0.0</td>\n",
       "      <td>0.166667</td>\n",
       "      <td>0.000000</td>\n",
       "      <td>0.102041</td>\n",
       "      <td>0.4</td>\n",
       "      <td>0.250300</td>\n",
       "      <td>0.072183</td>\n",
       "      <td>0.0</td>\n",
       "      <td>0.0</td>\n",
       "    </tr>\n",
       "    <tr>\n",
       "      <th>8</th>\n",
       "      <td>0.0</td>\n",
       "      <td>1.0</td>\n",
       "      <td>0.000044</td>\n",
       "      <td>1.0</td>\n",
       "      <td>0.166667</td>\n",
       "      <td>0.000000</td>\n",
       "      <td>0.248980</td>\n",
       "      <td>0.8</td>\n",
       "      <td>0.320272</td>\n",
       "      <td>0.121372</td>\n",
       "      <td>0.7</td>\n",
       "      <td>0.0</td>\n",
       "    </tr>\n",
       "    <tr>\n",
       "      <th>10</th>\n",
       "      <td>0.5</td>\n",
       "      <td>1.0</td>\n",
       "      <td>0.000050</td>\n",
       "      <td>1.0</td>\n",
       "      <td>0.166667</td>\n",
       "      <td>0.007345</td>\n",
       "      <td>0.061224</td>\n",
       "      <td>0.8</td>\n",
       "      <td>0.240304</td>\n",
       "      <td>0.029022</td>\n",
       "      <td>0.7</td>\n",
       "      <td>0.0</td>\n",
       "    </tr>\n",
       "  </tbody>\n",
       "</table>\n",
       "</div>"
      ],
      "text/plain": [
       "    Employer_Category1  Employer_Category2  Monthly_Income  Primary_Bank_Type  \\\n",
       "1                  1.0                 0.0        0.000070                0.0   \n",
       "6                  0.5                 1.0        0.000175                1.0   \n",
       "7                  0.0                 1.0        0.000057                0.0   \n",
       "8                  0.0                 1.0        0.000044                1.0   \n",
       "10                 0.5                 1.0        0.000050                1.0   \n",
       "\n",
       "    Source_Category  Existing_EMI  Loan_Amount  Loan_Period  Interest_Rate  \\\n",
       "1          1.000000      0.000000     0.061224          0.2       0.050380   \n",
       "6          0.333333      0.000000     0.510204          0.8       0.114354   \n",
       "7          0.166667      0.000000     0.102041          0.4       0.250300   \n",
       "8          0.166667      0.000000     0.248980          0.8       0.320272   \n",
       "10         0.166667      0.007345     0.061224          0.8       0.240304   \n",
       "\n",
       "         EMI  Var1  Approved  \n",
       "1   0.062137   1.0       0.0  \n",
       "6   0.220569   1.0       0.0  \n",
       "7   0.072183   0.0       0.0  \n",
       "8   0.121372   0.7       0.0  \n",
       "10  0.029022   0.7       0.0  "
      ]
     },
     "execution_count": 14,
     "metadata": {},
     "output_type": "execute_result"
    }
   ],
   "source": [
    "df1 = df1.drop(columns=['City_Category'],axis=1)\n",
    "df2 = df2.drop(columns=['City_Category'],axis=1)\n",
    "\n",
    "#standarize\n",
    "\n",
    "scaler = preprocessing.MinMaxScaler()\n",
    "scaler.fit(df1)\n",
    "\n",
    "df1 = pd.DataFrame(scaler.transform(df1), index=df1.index, columns=df1.columns)\n",
    "\n",
    "scaler.fit(df2)\n",
    "\n",
    "df2 = pd.DataFrame(scaler.transform(df2), index=df2.index, columns=df2.columns)\n",
    "\n",
    "print(\"Mida de train després d'estandaritzar': \", df1.shape)\n",
    "print(\"Mida de test després d'estandaritzar: \", df2.shape)\n",
    "print(\"Database after standarize: \")\n",
    "df1.head()\n",
    "\n"
   ]
  },
  {
   "cell_type": "code",
   "execution_count": 23,
   "id": "d8a9bd51",
   "metadata": {},
   "outputs": [],
   "source": [
    "X = df1.loc[:,df1.columns!='Approved']\n",
    "y = df1[['Approved']]"
   ]
  },
  {
   "cell_type": "markdown",
   "id": "db29f4bc",
   "metadata": {},
   "source": [
    "# Models i classificadors"
   ]
  },
  {
   "cell_type": "code",
   "execution_count": 26,
   "id": "5facd849",
   "metadata": {},
   "outputs": [
    {
     "name": "stdout",
     "output_type": "stream",
     "text": [
      "Logistic Regression Accuracy : 0.9799093953121922\n",
      "Cross-validation scores:[0.97506562 0.97570584 0.97570584 0.97570584 0.97570584 0.97570584\n",
      " 0.97570584 0.97570584 0.97504924 0.97504924]\n",
      "Average accuracy cross-validation score: 0.9755\n",
      "Cross-validation scores:[0. 0. 0. 0. 0. 0. 0. 0. 0. 0.]\n",
      "Average f1 cross-validation score: 0.0000\n",
      "Cross-validation scores:[0.06226946 0.11638868 0.12279734 0.05002081 0.10542543 0.10072123\n",
      " 0.0793645  0.07410076 0.11169846 0.08475993]\n",
      "Average precision cross-validation score: 0.0908\n",
      "Cross-validation scores:[0. 0. 0. 0. 0. 0. 0. 0. 0. 0.]\n",
      "Average recall cross-validation score: 0.0000\n"
     ]
    }
   ],
   "source": [
    "#logistic regression\n",
    "X_train,X_test,y_train,y_test = train_test_split(X,y,test_size=0.25,random_state=42)\n",
    "\n",
    "clf_logreg = LogisticRegression(random_state=0)\n",
    "clf_logreg.fit(X_train,y_train)\n",
    "\n",
    "y_pred = clf_logreg.predict(X_test)\n",
    "accuracyLR = accuracy_score(y_test,y_pred)\n",
    "\n",
    "print('Logistic Regression Accuracy :',accuracyLR)\n",
    "\n",
    "scores = cross_val_score(clf_logreg, X_train, y_train, cv = 10, scoring='accuracy')\n",
    "print('Cross-validation scores:{}'.format(scores))\n",
    "print('Average accuracy cross-validation score: {:.4f}'.format(scores.mean()))\n",
    "\n",
    "scores = cross_val_score(clf_logreg, X_train, y_train, cv = 10, scoring='f1')\n",
    "print('Cross-validation scores:{}'.format(scores))\n",
    "print('Average f1 cross-validation score: {:.4f}'.format(scores.mean()))\n",
    "\n",
    "scores = cross_val_score(clf_logreg, X_train, y_train, cv = 10, scoring='average_precision')\n",
    "print('Cross-validation scores:{}'.format(scores))\n",
    "print('Average precision cross-validation score: {:.4f}'.format(scores.mean()))\n",
    "\n",
    "scores = cross_val_score(clf_logreg, X_train, y_train, cv = 10, scoring='recall')\n",
    "print('Cross-validation scores:{}'.format(scores))\n",
    "print('Average recall cross-validation score: {:.4f}'.format(scores.mean()))"
   ]
  },
  {
   "cell_type": "code",
   "execution_count": 28,
   "id": "d03ac8bc",
   "metadata": {},
   "outputs": [
    {
     "name": "stdout",
     "output_type": "stream",
     "text": [
      "Random Forest Accuracy : 0.9769548946228087\n",
      "Cross-validation scores:[0.97637795 0.97701904 0.97701904 0.97636244 0.97636244 0.97636244\n",
      " 0.97636244 0.97636244 0.97636244 0.97636244]\n",
      "Average accuracy cross-validation score: 0.9765\n",
      "Cross-validation scores:[0. 0. 0. 0. 0. 0. 0. 0. 0. 0.]\n",
      "Average f1 cross-validation score: 0.0000\n",
      "Cross-validation scores:[0.08223684 0.12518287 0.16989486 0.14835151 0.10914099 0.09193483\n",
      " 0.08159621 0.12072547 0.14319459 0.12301189]\n",
      "Average precision cross-validation score: 0.1195\n",
      "Cross-validation scores:[0. 0. 0. 0. 0. 0. 0. 0. 0. 0.]\n",
      "Average recall cross-validation score: 0.0000\n"
     ]
    }
   ],
   "source": [
    "#random forest\n",
    "X_train,X_test,y_train,y_test = train_test_split(X,y,test_size=0.25)\n",
    "\n",
    "clf_rf = RandomForestClassifier(n_estimators=100, max_depth=4,random_state=42)\n",
    "clf_rf.fit(X_train,y_train)\n",
    "\n",
    "y_pred = clf_rf.predict(X_test)\n",
    "accuracyRF = accuracy_score(y_test,y_pred)\n",
    "\n",
    "print('Random Forest Accuracy :',accuracyRF)\n",
    "\n",
    "scores = cross_val_score(clf_rf, X_train, y_train, cv = 10, scoring='accuracy')\n",
    "print('Cross-validation scores:{}'.format(scores))\n",
    "print('Average accuracy cross-validation score: {:.4f}'.format(scores.mean()))\n",
    "\n",
    "scores = cross_val_score(clf_rf, X_train, y_train, cv = 10, scoring='f1')\n",
    "print('Cross-validation scores:{}'.format(scores))\n",
    "print('Average f1 cross-validation score: {:.4f}'.format(scores.mean()))\n",
    "\n",
    "scores = cross_val_score(clf_rf, X_train, y_train, cv = 10, scoring='average_precision')\n",
    "print('Cross-validation scores:{}'.format(scores))\n",
    "print('Average precision cross-validation score: {:.4f}'.format(scores.mean()))\n",
    "\n",
    "scores = cross_val_score(clf_rf, X_train, y_train, cv = 10, scoring='recall')\n",
    "print('Cross-validation scores:{}'.format(scores))\n",
    "print('Average recall cross-validation score: {:.4f}'.format(scores.mean()))"
   ]
  },
  {
   "cell_type": "code",
   "execution_count": 29,
   "id": "773333b0",
   "metadata": {},
   "outputs": [
    {
     "name": "stdout",
     "output_type": "stream",
     "text": [
      "Linear SVM Accuracy : 0.9799093953121922\n",
      "Cross-validation scores:[0.97506562 0.97570584 0.97570584 0.97570584 0.97570584 0.97570584\n",
      " 0.97570584 0.97570584 0.97504924 0.97504924]\n",
      "Average accuracy cross-validation score: 0.9755\n",
      "Cross-validation scores:[0. 0. 0. 0. 0. 0. 0. 0. 0. 0.]\n",
      "Average f1 cross-validation score: 0.0000\n",
      "Cross-validation scores:[0.04086029 0.05615465 0.02735448 0.02667145 0.0886759  0.07105796\n",
      " 0.07069415 0.04396788 0.06171688 0.07749476]\n",
      "Average precision cross-validation score: 0.0565\n",
      "Cross-validation scores:[0. 0. 0. 0. 0. 0. 0. 0. 0. 0.]\n",
      "Average recall cross-validation score: 0.0000\n"
     ]
    }
   ],
   "source": [
    "#svm w/ linear\n",
    "X_train,X_test,y_train,y_test = train_test_split(X,y,test_size=0.25,random_state=42)\n",
    "\n",
    "clf_svc = svm.SVC(kernel='linear')\n",
    "clf_svc.fit(X_train,y_train)\n",
    "\n",
    "y_pred = clf_svc.predict(X_test)\n",
    "accuracySVlinear = accuracy_score(y_test,y_pred)\n",
    "\n",
    "print('Linear SVM Accuracy :',accuracySVlinear)\n",
    "\n",
    "scores = cross_val_score(clf_svc, X_train, y_train, cv = 10, scoring='accuracy')\n",
    "print('Cross-validation scores:{}'.format(scores))\n",
    "print('Average accuracy cross-validation score: {:.4f}'.format(scores.mean()))\n",
    "\n",
    "scores = cross_val_score(clf_svc, X_train, y_train, cv = 10, scoring='f1')\n",
    "print('Cross-validation scores:{}'.format(scores))\n",
    "print('Average f1 cross-validation score: {:.4f}'.format(scores.mean()))\n",
    "\n",
    "scores = cross_val_score(clf_svc, X_train, y_train, cv = 10, scoring='average_precision')\n",
    "print('Cross-validation scores:{}'.format(scores))\n",
    "print('Average precision cross-validation score: {:.4f}'.format(scores.mean()))\n",
    "\n",
    "scores = cross_val_score(clf_svc, X_train, y_train, cv = 10, scoring='recall')\n",
    "print('Cross-validation scores:{}'.format(scores))\n",
    "print('Average recall cross-validation score: {:.4f}'.format(scores.mean()))"
   ]
  },
  {
   "cell_type": "code",
   "execution_count": 30,
   "id": "a796bcde",
   "metadata": {},
   "outputs": [
    {
     "name": "stdout",
     "output_type": "stream",
     "text": [
      "Linear SVM Accuracy : 0.9799093953121922\n",
      "Cross-validation scores:[0.97506562 0.97570584 0.97570584 0.97570584 0.97570584 0.97570584\n",
      " 0.97570584 0.97504924 0.97504924 0.97504924]\n",
      "Average accuracy cross-validation score: 0.9754\n",
      "Cross-validation scores:[0. 0. 0. 0. 0. 0. 0. 0. 0. 0.]\n",
      "Average f1 cross-validation score: 0.0000\n",
      "Cross-validation scores:[0.07390361 0.13489436 0.12414753 0.05918083 0.16419227 0.16063822\n",
      " 0.10810925 0.07456136 0.11395467 0.07790103]\n",
      "Average precision cross-validation score: 0.1091\n",
      "Cross-validation scores:[0. 0. 0. 0. 0. 0. 0. 0. 0. 0.]\n",
      "Average recall cross-validation score: 0.0000\n"
     ]
    }
   ],
   "source": [
    "#svm w/ linearSVC\n",
    "X_train,X_test,y_train,y_test = train_test_split(X,y,test_size=0.25,random_state=42)\n",
    "\n",
    "clf_svc = svm.LinearSVC(C=1.0, max_iter=1000000)\n",
    "clf_svc.fit(X_train,y_train)\n",
    "\n",
    "y_pred = clf_svc.predict(X_test)\n",
    "accuracySVlinear = accuracy_score(y_test,y_pred)\n",
    "\n",
    "print('Linear SVM Accuracy :',accuracySVlinear)\n",
    "\n",
    "scores = cross_val_score(clf_svc, X_train, y_train, cv = 10, scoring='accuracy')\n",
    "print('Cross-validation scores:{}'.format(scores))\n",
    "print('Average accuracy cross-validation score: {:.4f}'.format(scores.mean()))\n",
    "\n",
    "scores = cross_val_score(clf_svc, X_train, y_train, cv = 10, scoring='f1')\n",
    "print('Cross-validation scores:{}'.format(scores))\n",
    "print('Average f1 cross-validation score: {:.4f}'.format(scores.mean()))\n",
    "\n",
    "scores = cross_val_score(clf_svc, X_train, y_train, cv = 10, scoring='average_precision')\n",
    "print('Cross-validation scores:{}'.format(scores))\n",
    "print('Average precision cross-validation score: {:.4f}'.format(scores.mean()))\n",
    "\n",
    "scores = cross_val_score(clf_svc, X_train, y_train, cv = 10, scoring='recall')\n",
    "print('Cross-validation scores:{}'.format(scores))\n",
    "print('Average recall cross-validation score: {:.4f}'.format(scores.mean()))"
   ]
  },
  {
   "cell_type": "code",
   "execution_count": 31,
   "id": "81b91901",
   "metadata": {},
   "outputs": [
    {
     "name": "stdout",
     "output_type": "stream",
     "text": [
      "Decision Tree Accuracy : 0.9507583218436084\n",
      "Cross-validation scores:[0.94553806 0.95469468 0.94944189 0.9441891  0.95403808 0.9435325\n",
      " 0.95075509 0.95403808 0.95338148 0.95338148]\n",
      "Average accuracy cross-validation score: 0.9503\n",
      "Cross-validation scores:[0.08791209 0.1038961  0.13483146 0.10526316 0.07894737 0.02272727\n",
      " 0.05063291 0.1025641  0.12345679 0.05333333]\n",
      "Average f1 cross-validation score: 0.0864\n",
      "Cross-validation scores:[0.0302541  0.03247857 0.03906558 0.03266074 0.02856137 0.0241675\n",
      " 0.02555496 0.03221489 0.03696764 0.02648251]\n",
      "Average precision cross-validation score: 0.0308\n",
      "Cross-validation scores:[0.10526316 0.10810811 0.16216216 0.13513514 0.08108108 0.02702703\n",
      " 0.05405405 0.10810811 0.13157895 0.05263158]\n",
      "Average recall cross-validation score: 0.0965\n"
     ]
    }
   ],
   "source": [
    "#decision tree\n",
    "X_train,X_test,y_train,y_test = train_test_split(X,y,test_size=0.25,random_state=42)\n",
    "\n",
    "clf_dt = DecisionTreeClassifier(random_state=0)\n",
    "clf_dt.fit(X_train,y_train)\n",
    "\n",
    "y_pred = clf_dt.predict(X_test)\n",
    "accuracyDT = accuracy_score(y_test,y_pred)\n",
    "\n",
    "print('Decision Tree Accuracy :',accuracyDT)\n",
    "\n",
    "scores = cross_val_score(clf_dt, X_train, y_train, cv = 10, scoring='accuracy')\n",
    "print('Cross-validation scores:{}'.format(scores))\n",
    "print('Average accuracy cross-validation score: {:.4f}'.format(scores.mean()))\n",
    "\n",
    "scores = cross_val_score(clf_dt, X_train, y_train, cv = 10, scoring='f1')\n",
    "print('Cross-validation scores:{}'.format(scores))\n",
    "print('Average f1 cross-validation score: {:.4f}'.format(scores.mean()))\n",
    "\n",
    "scores = cross_val_score(clf_dt, X_train, y_train, cv = 10, scoring='average_precision')\n",
    "print('Cross-validation scores:{}'.format(scores))\n",
    "print('Average precision cross-validation score: {:.4f}'.format(scores.mean()))\n",
    "\n",
    "scores = cross_val_score(clf_dt, X_train, y_train, cv = 10, scoring='recall')\n",
    "print('Cross-validation scores:{}'.format(scores))\n",
    "print('Average recall cross-validation score: {:.4f}'.format(scores.mean()))"
   ]
  },
  {
   "cell_type": "code",
   "execution_count": 32,
   "id": "07a20ca5",
   "metadata": {},
   "outputs": [
    {
     "data": {
      "text/plain": [
       "<matplotlib.legend.Legend at 0x29bc6c60310>"
      ]
     },
     "execution_count": 32,
     "metadata": {},
     "output_type": "execute_result"
    },
    {
     "data": {
      "image/png": "[encoded data removed]",
      "text/plain": [
       "<Figure size 432x288 with 1 Axes>"
      ]
     },
     "metadata": {
      "needs_background": "light"
     },
     "output_type": "display_data"
    },
    {
     "data": {
      "image/png": "[encoded data removed]",
      "text/plain": [
       "<Figure size 432x288 with 1 Axes>"
      ]
     },
     "metadata": {
      "needs_background": "light"
     },
     "output_type": "display_data"
    }
   ],
   "source": [
    "# Compute Precision-Recall and plot curve\n",
    "precision = {}\n",
    "recall = {}\n",
    "average_precision = {}\n",
    "plt.figure()\n",
    "\n",
    "precision, recall, _ = precision_recall_curve(y_test, y_pred)\n",
    "average_precision = average_precision_score(y_test, y_pred)\n",
    "\n",
    "plt.plot(recall, precision,\n",
    "label='Precision-recall curve of class {0} (area = {1:0.2f})'''.format('Approved', average_precision))\n",
    "plt.xlabel('Recall')\n",
    "plt.ylabel('Precision')\n",
    "plt.legend(loc=\"upper right\")\n",
    "    \n",
    "# Compute ROC curve and ROC area for each class\n",
    "fpr = {}\n",
    "tpr = {}\n",
    "roc_auc = {}\n",
    "\n",
    "fpr, tpr, _ = roc_curve(y_test, y_pred)\n",
    "roc_auc = auc(fpr, tpr)\n",
    "\n",
    "# Compute micro-average ROC curve and ROC area\n",
    "# Plot ROC curve\n",
    "plt.figure()\n",
    "\n",
    "plt.plot(fpr, tpr, label='ROC curve of class {0} (area = {1:0.2f})' ''.format('Approved', roc_auc))\n",
    "plt.legend()"
   ]
  },
  {
   "cell_type": "code",
   "execution_count": 35,
   "id": "d4a829cb",
   "metadata": {},
   "outputs": [
    {
     "name": "stdout",
     "output_type": "stream",
     "text": [
      "              precision    recall  f1-score   support\n",
      "\n",
      "Approved = 0       0.98      0.97      0.97      4975\n",
      "Approved = 1       0.05      0.08      0.06       102\n",
      "\n",
      "    accuracy                           0.95      5077\n",
      "   macro avg       0.51      0.52      0.52      5077\n",
      "weighted avg       0.96      0.95      0.96      5077\n",
      "\n"
     ]
    }
   ],
   "source": [
    "target_names = ['Approved = 0', 'Approved = 1']\n",
    "print(classification_report(y_test, y_pred, target_names=target_names))"
   ]
  },
  {
   "cell_type": "markdown",
   "id": "5159f7b6",
   "metadata": {},
   "source": [
    "# Anàlisis dels resultats"
   ]
  },
  {
   "cell_type": "markdown",
   "id": "1a2c3055",
   "metadata": {},
   "source": [
    "Malauradament, després de provar amb varis models, obtenim uns resultats molt iguals amb tots ells, i aquests són francament decepcionants, però força esperats veient les correlacions observades anteriorment i la desigualtat de dades proporcionades. Cap dels models és capaç de predir amb eficàcia nous clients, lleugerament per damunt de la resta està situat el Decision Tree, però també amb resultats insuficients. Amb l'enorme valor de accuracy però inexistència de precision i recall, podem treure la conclusió de que els models són àltament biased en vers de siguin quines siguin les dades, farà la predicció que el lead NO serà un client el 98% de les vegades, ja que com hem vist abans tindrà raó el 97,6% de les vegades, però zero capacitat predictiva real.\n",
    "\n",
    "En la ROC i precision-recall curve observem que el nostre model és pràcticament com llençar una moneda a cara o creu, només que mínimament millor, només un 2% millor. Declarem així que els nostres models són inservibles per a aquest cas.\n",
    "\n",
    "Observant el classification_report, tenint en compte com de descompensada és la nostra mostra, hem de donar prioritat a les dades del Approved = 1, i les macro avg, les weighted no ja que li treurien importància a lo descompensades que estàn les dades. Fixant-nos en aquestes dades, veiem que els resultats són realment baixos. "
   ]
  },
  {
   "cell_type": "markdown",
   "id": "e42b642d",
   "metadata": {},
   "source": [
    "Veient aquests resultats hem desestimat que els resultats que puguin generar els nostres models siguin útils o rellevants, però per exercici de curiositat es podria aplicar el model a les dades del test. Però com seràn dades aleatòries i sense resultats reals amb els que comparar-los, tampoc ho veiem necessari, ja hem fet comprovacións amb les dades que sí que tenen \"solució\". "
   ]
  },
  {
   "cell_type": "markdown",
   "id": "cb4e0e16",
   "metadata": {},
   "source": [
    "Ja que la pregunta del cas Kaggle és predir la probabilitat de conversió de clients en train que són els següents 30 dies, lo que podem fer és estimar que serà un percentatge molt petit en comparació al total de \"leads\". Tècnicament podem predir que serà entre  un 1 i un 3%. Però no ho sabrém a ciència certa."
   ]
  },
  {
   "cell_type": "markdown",
   "id": "a3872b2f",
   "metadata": {},
   "source": [
    "# Conclusións"
   ]
  },
  {
   "cell_type": "markdown",
   "id": "f4bce091",
   "metadata": {},
   "source": [
    "No hom pogut fer la predicció demanada amb les dades que ens han sigut atorgades. Ja sigui per falta de temps, enginy, o falta de correlació entre les dades. Aquest cas Kaggle que m'ha sigut assignat no sembla haver tingut gents d'èxit ell mateix a la pròpia web de Kaggle, on no se n'han generat discusións ni solucións, desconec a ciència certa si ha sigut per simple falta de popularitat, desinterès amb el tema per part de la resta d'usuaris, o el mal estat de les dades proporcionades. Puc imaginar que és per causa de l'últim veient els resultats que he obtingut, però potser en un futur amb més temps i coneixements podria tornar a intentar el mateix cas amb millors resultats. "
   ]
  },
  {
   "cell_type": "markdown",
   "id": "f3c4a8a0",
   "metadata": {},
   "source": [
    "Veig problemes entre les dades i el que s'espera obtenir d'elles:\n",
    "Un possible motiu pel qual les dades no ens són útils per a generar un model capaç de predir si un cert lead serà o no un client és el fet que depèn d'aquella persona voler o no demanar un prèstec, i això no ho pot forçar a succeir cap propaganda de màrqueting. Poden fer que algú que vulgui un prèstec, si ha vist més cops màrqueting del banc A que del B potser triarà el A, però algú que NO necessita un prèstec, per més anuncis del banc A que vegi, no li afectaràn en quant a demanar un prèstec a aquest banc. \n",
    "D'altra banda les dades que utilitza el banc per decidir si algú que vol fer un prèstec el podrà o no tornar en el futur, i per tant, si li accepten o no (és un client o no), s'obtenen molt més tard que la resta de dades, no totes les dades però sí la principal que és la EMI, quants diners vol aquesta persona. Per tant amb gent que encara no ha mostrat interés de ser o no client, no es pot saber si volem que ho sigui en primer lloc o no, ja que pot voler una quantitat que podria pagar i se li concediria el prèstec, per lo que SI que voldríem que fós client, o per la contra, una quantitat desorbitada per la que seria rebutjat i no interesseria ni que fós client. Això es pot observar a les dades inicials, de les 69713 tuples de train, només 22276 contenen dades de EMI, que és el 32% de les dades, mateix percentatge a test. "
   ]
  },
  {
   "cell_type": "markdown",
   "id": "cf0f3fb2",
   "metadata": {},
   "source": [
    "Discernir quin mètode de màrqueting és millor per a un banc, partint només de les dades dels últims 3 mesos, amb anàlisis i models no em sembla la millor idea en primer lloc, ja que no hi haurà una única solució, el màrqueting perfecte. S'haurà de repartir pressupost en diferents campanyes de màrqueting per a les diferents franges d'edat, la televisió i la ràdio pot fer arribar la teva propaganda a un públic, mentre que els anuncis a pàgines web i aplicacións mòbils farà arribar el teu anunci a una altra mena de públic. S'ha de repartir i no triar un i descartar la resta. Tampoc es pot esbrinar qui necessitarà un prèstec o no, per lo que costa discernir en quin rang d'edat o socioeconòmic centrar els esforços. "
   ]
  }
 ],
 "metadata": {
  "kernelspec": {
   "display_name": "Python 3",
   "language": "python",
   "name": "python3"
  },
  "language_info": {
   "codemirror_mode": {
    "name": "ipython",
    "version": 3
   },
   "file_extension": ".py",
   "mimetype": "text/x-python",
   "name": "python",
   "nbconvert_exporter": "python",
   "pygments_lexer": "ipython3",
   "version": "3.8.8"
  }
 },
 "nbformat": 4,
 "nbformat_minor": 5
}
